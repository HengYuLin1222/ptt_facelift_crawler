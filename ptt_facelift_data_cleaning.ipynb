{
 "cells": [
  {
   "cell_type": "code",
   "execution_count": 6,
   "id": "b28faaab",
   "metadata": {},
   "outputs": [
    {
     "name": "stdout",
     "output_type": "stream",
     "text": [
      "['/Users/linhengyu/Desktop', '/Users/linhengyu/opt/anaconda3/envs/python_tensor/lib/python38.zip', '/Users/linhengyu/opt/anaconda3/envs/python_tensor/lib/python3.8', '/Users/linhengyu/opt/anaconda3/envs/python_tensor/lib/python3.8/lib-dynload', '', '/Users/linhengyu/opt/anaconda3/envs/python_tensor/lib/python3.8/site-packages']\n"
     ]
    }
   ],
   "source": [
    "import sys\n",
    "print(sys.path)\n",
    "sys.path.append('/Users/linhengyu/opt/anaconda3/lib/python3.8')"
   ]
  },
  {
   "cell_type": "code",
   "execution_count": 9,
   "id": "e9f1cbf9",
   "metadata": {},
   "outputs": [],
   "source": [
    "import pandas as pd\n",
    "import re\n",
    "#import cntext as ct\n",
    "#import jieba\n",
    "#import jieba.posseg as pseg\n",
    "import tensorflow as tf"
   ]
  },
  {
   "cell_type": "code",
   "execution_count": 6,
   "id": "dece4b1b",
   "metadata": {},
   "outputs": [],
   "source": [
    "df1 = pd.read_csv('/Users/linhengyu/Documents/Python practice/ccClub_project_1600-1838.csv')\n",
    "df2 = pd.read_csv('/Users/linhengyu/Documents/Python practice/ccClub_project_1400-1599.csv')\n",
    "data = pd.concat([df1, df2], axis = 0)\n",
    "data = data.reset_index(drop = True)"
   ]
  },
  {
   "cell_type": "code",
   "execution_count": 7,
   "id": "c0cfaf7b",
   "metadata": {},
   "outputs": [],
   "source": [
    "#將comment分割成list[[推噓],[帳號:],[留言],[日期],[時間],[空格],[IP]]\n",
    "def split_text(row):\n",
    "    pattern = re.compile(r'\\d{1,3}\\.\\d{1,3}\\.\\d{1,3}\\.\\d{1,3}')\n",
    "    try:\n",
    "        for i in range(2, len(row)):\n",
    "            matches = pattern.search(row[i]).group()\n",
    "            row[i] = row[i].replace(matches, \"\")\n",
    "            row[i] = row[i].split(' ')\n",
    "            row[i].append(matches)\n",
    "            row[i][2:-3] = [' '.join(row[i][2:-3])]\n",
    "    except:\n",
    "        pass"
   ]
  },
  {
   "cell_type": "code",
   "execution_count": 8,
   "id": "8e252d40",
   "metadata": {},
   "outputs": [
    {
     "data": {
      "text/plain": [
       "0       None\n",
       "1       None\n",
       "2       None\n",
       "3       None\n",
       "4       None\n",
       "        ... \n",
       "8734    None\n",
       "8735    None\n",
       "8736    None\n",
       "8737    None\n",
       "8738    None\n",
       "Length: 8739, dtype: object"
      ]
     },
     "execution_count": 8,
     "metadata": {},
     "output_type": "execute_result"
    }
   ],
   "source": [
    "data.apply(split_text, axis = 1)"
   ]
  },
  {
   "cell_type": "code",
   "execution_count": 155,
   "id": "f92ae91d",
   "metadata": {},
   "outputs": [],
   "source": [
    "data.to_csv('/Users/linhengyu/Documents/Python practice/check_2.csv')"
   ]
  },
  {
   "cell_type": "code",
   "execution_count": 9,
   "id": "b16df4f4",
   "metadata": {},
   "outputs": [],
   "source": [
    "def clean_text(row):#將同一個帳號所講的話合併\n",
    "    id = []\n",
    "    for i in range(2, len(row)):\n",
    "        try:\n",
    "            id.append(row[i][1])\n",
    "        except:\n",
    "            pass\n",
    "    u_id = list(set(id)) #建立帳號列表\n",
    "    c = []\n",
    "    for u in u_id:\n",
    "        l = ''\n",
    "        for i in range(2, len(row)):\n",
    "            try:\n",
    "                if u == row[i][1]:\n",
    "                    l += row[i][2] #儲存組合後的comment\n",
    "            except:\n",
    "                pass\n",
    "        c.append([u,l]) #輸出[帳號, 留言]\n",
    "    return c"
   ]
  },
  {
   "cell_type": "code",
   "execution_count": 10,
   "id": "d9452748",
   "metadata": {},
   "outputs": [],
   "source": [
    "comment_dic = pd.DataFrame({})\n",
    "comment_dic[\"comment\"] = data.apply(clean_text, axis = 1)\n",
    "comment_dic = pd.DataFrame([pd.Series(x) for x in comment_dic.comment])\n",
    "comment_dic.columns = ['comment_{}'.format(x+1) for x in comment_dic.columns]\n",
    "title_and_content = data[[\"title\",\"content\"]]\n",
    "data_clean = pd.concat([title_and_content, comment_dic], axis = 1) "
   ]
  },
  {
   "cell_type": "code",
   "execution_count": 11,
   "id": "59894796",
   "metadata": {},
   "outputs": [],
   "source": [
    "#篩選真正在問問題的貼文\n",
    "def ask_for_recommend(row):\n",
    "    recommend_words = [\"挑選\",\"選擇\",\"請教\",\"推薦\"]\n",
    "    for r in recommend_words:\n",
    "        if r in row[\"title\"]:\n",
    "            return r\n",
    "        \n",
    "#建立手術種類的column\n",
    "def surgery_type(row):\n",
    "    surgery_words = [\"鼻\",\n",
    "                     \"乳\",\"曼陀\",\"水滴\",\"自體\",\n",
    "                     \"埋線\",\"玻尿酸\",\"微整\",\n",
    "                     \"抽脂\",\"威塑\",\"減脂\",\n",
    "                     \"眼皮\",\"淚溝\",\"眼袋\",\"眼袋\",\n",
    "                     \"近視\"\n",
    "                     \"削骨\"\n",
    "                     ]\n",
    "    for s in surgery_words:\n",
    "        if s in row[\"title\"]:\n",
    "            return s\n",
    "\n",
    "#將手術種類分類\n",
    "def surgery_location(row):\n",
    "    if row [\"surgery_type\"] in [\"鼻\"]: return \"nose\"\n",
    "    if row [\"surgery_type\"] in [\"乳\",\"曼陀\",\"水滴\",\"自體\"]: return \"breast\"\n",
    "    if row [\"surgery_type\"] in [\"埋線\",\"玻尿酸\",\"微整\"]: return \"micro\"\n",
    "    if row [\"surgery_type\"] in [\"抽脂\",\"威塑\",\"減脂\"]: return \"fat\"\n",
    "    if row [\"surgery_type\"] in [\"眼皮\",\"淚溝\",\"眼袋\",\"眼袋\"]: return \"eye\"\n",
    "    if row [\"surgery_type\"] in [\"近視\"]: return \"shortsight\"\n",
    "    if row [\"surgery_type\"] in [\"削骨\"]: return \"bone\""
   ]
  },
  {
   "cell_type": "code",
   "execution_count": 12,
   "id": "cc0fb731",
   "metadata": {},
   "outputs": [],
   "source": [
    "data_clean[\"recommend_type\"] = data_clean.apply(ask_for_recommend, axis = 1)\n",
    "data_clean = data_clean.dropna(subset=[\"recommend_type\"])\n",
    "data_clean[\"surgery_type\"] = data_clean.apply(surgery_type, axis = 1)\n",
    "data_clean = data_clean.dropna(subset=[\"surgery_type\"])\n",
    "data_clean[\"surgery_location\"] = data_clean.apply(surgery_location, axis = 1)"
   ]
  },
  {
   "cell_type": "code",
   "execution_count": 13,
   "id": "f2a6607f",
   "metadata": {},
   "outputs": [],
   "source": [
    "#只留下前100個人的留言\n",
    "data_clean = data_clean.drop(data_clean.columns[102:611], axis = 1)"
   ]
  },
  {
   "cell_type": "code",
   "execution_count": 228,
   "id": "b35452c5",
   "metadata": {},
   "outputs": [],
   "source": [
    "data_clean.to_csv('/Users/linhengyu/Documents/Python practice/ccClub_project_ptt_data_1400-1838_v4.csv')"
   ]
  },
  {
   "cell_type": "code",
   "execution_count": 303,
   "id": "98c6e279",
   "metadata": {},
   "outputs": [],
   "source": [
    "#人名辨識function\n",
    "def isname(single_word_string):\n",
    "    pair_word_list = pseg.lcut(single_word_string)\n",
    "    for eve_word, cixing in pair_word_list:\n",
    "        if cixing == \"nr\":\n",
    "            return True\n",
    "    return False"
   ]
  },
  {
   "cell_type": "code",
   "execution_count": 342,
   "id": "dea6caa8",
   "metadata": {},
   "outputs": [],
   "source": [
    "#句子切割+辨識醫師名稱\n",
    "def doctor_name(row):\n",
    "    doctor = []\n",
    "    try:\n",
    "        for i in range(2, len(row)):\n",
    "            words = list(jieba.cut(row[i][1], cut_all = False))\n",
    "            d = []\n",
    "            for word in words:\n",
    "                if isname(word) and len(word) == 3:\n",
    "                    d.append(word)\n",
    "                    row[i].append(word)\n",
    "            if d != []:\n",
    "                doctor.append(d)\n",
    "    except:\n",
    "        pass\n",
    "    return doctor"
   ]
  },
  {
   "cell_type": "code",
   "execution_count": 16,
   "id": "2df729c2",
   "metadata": {},
   "outputs": [
    {
     "data": {
      "text/plain": [
       "['smilifly:', '三位醫師都諮詢過~但個人比較喜歡吳孟穎   的案例 線條漂亮外也沒有凹凸不平的問題    比價後也覺得是能接受的範圍   ']"
      ]
     },
     "execution_count": 16,
     "metadata": {},
     "output_type": "execute_result"
    }
   ],
   "source": [
    "data_clean.iloc[0][2]"
   ]
  },
  {
   "cell_type": "code",
   "execution_count": 23,
   "id": "a83bc3ed",
   "metadata": {},
   "outputs": [
    {
     "data": {
      "text/plain": [
       "{'ChineseFinancialFormalUnformalSentiment_num': 0,\n",
       " 'Desc_num': 3,\n",
       " 'Referer_num': 0,\n",
       " 'stopword_num': 11,\n",
       " 'word_num': 43,\n",
       " 'sentence_num': 1}"
      ]
     },
     "execution_count": 23,
     "metadata": {},
     "output_type": "execute_result"
    }
   ],
   "source": [
    "#情緒辨識\n",
    "text = '三位醫師都諮詢過~但個人比較喜歡吳孟穎   的案例 線條漂亮外也沒有凹凸不平的問題    比價後也覺得是能接受的範圍   '\n",
    "ct.sentiment(text=text,\n",
    "             diction=ct.load_pkl_dict('ChineseFinancialFormalUnformalSentiment.pkl'),\n",
    "             lang='chinese')"
   ]
  },
  {
   "cell_type": "code",
   "execution_count": 280,
   "id": "6b7f0c94",
   "metadata": {},
   "outputs": [],
   "source": [
    "#根據surgery_location分開每個data\n",
    "surgery_location = ['nose','breast','fat','eye','shortsight','micro']\n",
    "for s in surgery_location:\n",
    "    globals()[f'{s}_data'] = data_clean[data_clean['surgery_location'].isin([s])]"
   ]
  },
  {
   "cell_type": "code",
   "execution_count": null,
   "id": "3899bf74",
   "metadata": {},
   "outputs": [],
   "source": []
  }
 ],
 "metadata": {
  "kernelspec": {
   "display_name": "Python 3 (ipykernel)",
   "language": "python",
   "name": "python3"
  },
  "language_info": {
   "codemirror_mode": {
    "name": "ipython",
    "version": 3
   },
   "file_extension": ".py",
   "mimetype": "text/x-python",
   "name": "python",
   "nbconvert_exporter": "python",
   "pygments_lexer": "ipython3",
   "version": "3.8.15"
  }
 },
 "nbformat": 4,
 "nbformat_minor": 5
}
