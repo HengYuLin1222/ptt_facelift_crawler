{
 "cells": [
  {
   "cell_type": "code",
   "execution_count": 25,
   "id": "e9ed2ab1",
   "metadata": {},
   "outputs": [],
   "source": [
    "from selenium import webdriver\n",
    "from selenium.webdriver.common.by import By\n",
    "from bs4 import BeautifulSoup\n",
    "import requests\n",
    "from lxml import html\n",
    "import pandas as pd"
   ]
  },
  {
   "cell_type": "code",
   "execution_count": 34,
   "id": "4ab3bcce",
   "metadata": {},
   "outputs": [],
   "source": [
    "pages = list(range(1000,1399))"
   ]
  },
  {
   "cell_type": "code",
   "execution_count": 35,
   "id": "4e901a90",
   "metadata": {},
   "outputs": [],
   "source": [
    "#取得文章標題\n",
    "text_title = []\n",
    "#取得文章連結\n",
    "text_link = []\n",
    "#取得文章內文\n",
    "full_content = []\n",
    "#取得文章留言\n",
    "full_comment = []\n",
    "\n",
    "for p in pages:\n",
    "    board_url = \"https://www.ptt.cc/bbs/facelift/index\" + str(p) + \".html\"\n",
    "    re = requests.get(board_url)\n",
    "    soup = BeautifulSoup(re.text, \"html.parser\")\n",
    "    title = soup.findAll(\"div\", {\"class\":\"title\"})\n",
    "    link = []\n",
    "    for i in range(len(title)):\n",
    "        #忽略被刪除的文章\n",
    "        try:\n",
    "            link.append(title[i].a[\"href\"])\n",
    "            text_title.append(title[i].text)\n",
    "        except:\n",
    "            continue\n",
    "    \n",
    "    text_link.append(link)\n",
    "        \n",
    "    for i in range(len(link)):\n",
    "        re_0 = requests.get(\"https://www.ptt.cc\" + link[i])\n",
    "        soup_0 = BeautifulSoup(re_0.text, \"html.parser\")\n",
    "        #定位本文\n",
    "        root = html.fromstring(re_0.text)\n",
    "        tree = root.getroottree()\n",
    "        content = root.xpath('//*[@id=\"main-content\"]/text()')\n",
    "        full_content.append(content)\n",
    "        #定位留言\n",
    "        c = soup_0.findAll(\"div\", {\"class\":\"push\"})\n",
    "        comment = []\n",
    "        for i in c:\n",
    "            comment.append(i.text)\n",
    "        full_comment.append(comment)"
   ]
  },
  {
   "cell_type": "code",
   "execution_count": 36,
   "id": "1d576870",
   "metadata": {},
   "outputs": [
    {
     "name": "stdout",
     "output_type": "stream",
     "text": [
      "7979\n",
      "7979\n",
      "7979\n"
     ]
    }
   ],
   "source": [
    "print(len(text_title))\n",
    "print(len(full_content))\n",
    "print(len(full_comment))"
   ]
  },
  {
   "cell_type": "code",
   "execution_count": 37,
   "id": "78e17f51",
   "metadata": {},
   "outputs": [
    {
     "name": "stdout",
     "output_type": "stream",
     "text": [
      "                              title  \\\n",
      "0             \\nFw: [請益] 醫美診所打玻尿酸\\n   \n",
      "1            \\n[分享] 高雄中山一路某醫美態度不佳\\n   \n",
      "2               \\n[問題] 吳外科還是老醫生嗎？\\n   \n",
      "3                     \\n請問打淚溝的價位？\\n   \n",
      "4                 \\n[問題] 抽脂消腫需要多久\\n   \n",
      "...                             ...   \n",
      "7974            \\nRe: [問題] 尋找提眼肌王\\n   \n",
      "7975          \\n[問題] 皮秒雷射除刺青效果？？？\\n   \n",
      "7976         \\n[問題] 高雄除斑選擇 高醫或榮總？\\n   \n",
      "7977  \\n[心得] 割雙眼皮+提眼肌二個月心得分享~(文長)\\n   \n",
      "7978         \\n[問題] Dr.V 葳亞娜診所 評價\\n   \n",
      "\n",
      "                                                content  \\\n",
      "0     [\\n, \\n作者: cocastar (K.Keith) 看板: ChangHua\\n標題...   \n",
      "1     [\\n今天來跟大家閒聊一下這家位於高雄市新興區中山一路的XX紀醫美診所\\n其門市小姐態度反應...   \n",
      "2     [\\n已預約2/14去縫雙眼皮，想請問最近有人去做嗎？還是老醫師嗎？因為版上最接近的日期\\n...   \n",
      "3     [\\n請問大家知道台北或新北的價錢嗎？\\n\\n我上次問板橋光澤大概15000左右；但我聽說朋...   \n",
      "4     [\\n我在1/23那天抽脂\\n\\n大腿環抽(大腿前側沒抽)+馬鞍\\n\\n雖然瘀青跟痛的程度比...   \n",
      "...                                                 ...   \n",
      "7974  [\\n就決定是你了！！睿醫-盧龍一\\n\\n昨天手術時間約兩個小時，順利的完成了\\n，因為盧醫...   \n",
      "7975  [\\n\\n手機排版，請見諒\\n以前年輕的時候被愛沖昏頭，在腰上刺了一個彩色刺青，\\n雖然已經...   \n",
      "7976  [\\n大家好\\n\\n爬了板上高雄除斑診所的評價有點兩極又不想應付推銷\\n\\n目前傾向去大醫院...   \n",
      "7977  [\\n先附上我原本的眼睛\\n主要的問題就是又單又無神，眼睛沒甚麼力氣的感覺\\n, \\n, \\...   \n",
      "7978  [\\n最近在臉書看到這家診所的優惠活動\\n感覺蠻心動的\\n想打肉毒\\n但爬了很多文 好像都沒...   \n",
      "\n",
      "                                                comment  \n",
      "0     [推 december1952: 可以去醫美版問呀～facelit那個板 01/31 22:...  \n",
      "1     [推 clapjing: 好誇張喔!!218.164.125.220 02/01 12:27...  \n",
      "2     [推 vvvvvvvvvv: 去年8月中去縫，還是老醫師哦！預祝你111.82.241.19...  \n",
      "3     [→ ROROMOI: 高雄哪裡？我也想知道！！！  1.173.155.212 02/02...  \n",
      "4     [推 anbers: 最少也要二個禮拜才會開始消~到一個月左右 118.233.249.55...  \n",
      "...                                                 ...  \n",
      "7974  [推 NANAGG: 跟苗勒氏肌的內開法有何不同？    42.76.97.90 05/25...  \n",
      "7975  [推 msc54443: 刺青需要勇氣，除刺青更是，感覺兩種都  27.246.139.35...  \n",
      "7976  [推 fay3241982: 我只去過大昌醫美中心，那邊醫師技術     39.8.99.7...  \n",
      "7977  [推 sweetmind00: 差好多!想知道醫師和價格 180.204.49.151 05...  \n",
      "7978  [→ iolm1125: 朋友打過 他說效果不好  49.217.208.88 05/25 ...  \n",
      "\n",
      "[7979 rows x 3 columns]\n"
     ]
    }
   ],
   "source": [
    "dic = {\n",
    "    \"title\": text_title, \n",
    "    \"content\": full_content,\n",
    "    \"comment\": full_comment,\n",
    "}\n",
    "df = pd.DataFrame(dic)\n",
    "print(df)"
   ]
  },
  {
   "cell_type": "code",
   "execution_count": 38,
   "id": "7116711b",
   "metadata": {},
   "outputs": [
    {
     "name": "stderr",
     "output_type": "stream",
     "text": [
      "<ipython-input-38-ed63e5cd1462>:1: DeprecationWarning: The default dtype for empty Series will be 'object' instead of 'float64' in a future version. Specify a dtype explicitly to silence this warning.\n",
      "  df1 = pd.DataFrame([pd.Series(x) for x in df.comment])\n"
     ]
    }
   ],
   "source": [
    "df1 = pd.DataFrame([pd.Series(x) for x in df.comment])\n",
    "df1.columns = ['comment_{}'.format(x+1) for x in df1.columns]"
   ]
  },
  {
   "cell_type": "code",
   "execution_count": 40,
   "id": "2f1c88d7",
   "metadata": {},
   "outputs": [],
   "source": [
    "df2 = pd.concat([df,df1],axis=1)"
   ]
  },
  {
   "cell_type": "code",
   "execution_count": 41,
   "id": "e3de8551",
   "metadata": {},
   "outputs": [],
   "source": [
    "df2 = df2.drop([\"comment\"], axis=1)"
   ]
  },
  {
   "cell_type": "code",
   "execution_count": 42,
   "id": "618e43e2",
   "metadata": {},
   "outputs": [],
   "source": [
    "df2.to_csv('/Users/linhengyu/Documents/Python practice/ccClub_project_1000-1399.csv', encoding='utf-8',index=False)"
   ]
  },
  {
   "cell_type": "code",
   "execution_count": null,
   "id": "d89061dd",
   "metadata": {},
   "outputs": [],
   "source": []
  }
 ],
 "metadata": {
  "kernelspec": {
   "display_name": "Python 3 (ipykernel)",
   "language": "python",
   "name": "python3"
  },
  "language_info": {
   "codemirror_mode": {
    "name": "ipython",
    "version": 3
   },
   "file_extension": ".py",
   "mimetype": "text/x-python",
   "name": "python",
   "nbconvert_exporter": "python",
   "pygments_lexer": "ipython3",
   "version": "3.8.15"
  }
 },
 "nbformat": 4,
 "nbformat_minor": 5
}
